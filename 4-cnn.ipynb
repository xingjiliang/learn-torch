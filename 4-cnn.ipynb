{
 "cells": [
  {
   "cell_type": "code",
   "execution_count": 1,
   "id": "a8fb0d3c-53b8-4f0f-bb21-d658e9c55324",
   "metadata": {},
   "outputs": [],
   "source": [
    "import torch\n",
    "from torch import nn"
   ]
  },
  {
   "cell_type": "code",
   "execution_count": 2,
   "id": "3fc7f0b2-eb2f-41b3-a22c-a7a57d5ab602",
   "metadata": {},
   "outputs": [],
   "source": [
    "x = torch.arange(48.0).reshape([3,4,4])\n",
    "kernel = nn.Conv2d(3, 2, [2,2])\n",
    "kernel.weight.data = torch.arange(8.0).reshape(2,1,2,2)\n",
    "kernel(x)"
   ]
  },
  {
   "cell_type": "code",
   "execution_count": null,
   "id": "cf152d1b-b324-4503-8759-1f4e75da2750",
   "metadata": {},
   "outputs": [],
   "source": []
  }
 ],
 "metadata": {
  "kernelspec": {
   "display_name": "Python 3 (ipykernel)",
   "language": "python",
   "name": "python3"
  },
  "language_info": {
   "codemirror_mode": {
    "name": "ipython",
    "version": 3
   },
   "file_extension": ".py",
   "mimetype": "text/x-python",
   "name": "python",
   "nbconvert_exporter": "python",
   "pygments_lexer": "ipython3",
   "version": "3.11.7"
  }
 },
 "nbformat": 4,
 "nbformat_minor": 5
}
