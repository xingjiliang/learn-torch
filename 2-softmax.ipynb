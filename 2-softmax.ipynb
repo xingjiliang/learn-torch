{
 "cells": [
  {
   "cell_type": "code",
   "execution_count": null,
   "id": "cf2662e0-32e9-4ba8-a4b0-b914132558ca",
   "metadata": {},
   "outputs": [],
   "source": [
    "import torch\n",
    "from torch import data\n",
    "import d2l"
   ]
  },
  {
   "cell_type": "code",
   "execution_count": null,
   "id": "79750216-5b88-4252-b017-3a0eb7aa5e39",
   "metadata": {},
   "outputs": [],
   "source": [
    "batch_size = 256\n",
    "num_inputs = 784\n",
    "num_outputs = 10\n",
    "epoch = 10\n",
    "lr = 0.2"
   ]
  },
  {
   "cell_type": "code",
   "execution_count": null,
   "id": "4f01479b-09ff-467a-be1b-9f4c1c1223eb",
   "metadata": {},
   "outputs": [],
   "source": [
    "#引入数据\n",
    "X_iter, Y_iter = data.DataLoader()\n",
    "#构造计算图-定义模型 参数 激活函数-softmax\n",
    "w = torch.normal(0, 0.1, size=[num_inputs, num_outputs], requires_grad=True)\n",
    "b = torch.zeros(num_outputs, requires_grad=True)\n",
    "\n",
    "def softmax(X):\n",
    "    numerator = X.exp()\n",
    "    denominator = numerator.sum(axis=1,keepdim=True)\n",
    "    return numerator / denominator\n",
    "\n",
    "def net(X, w, b):\n",
    "    return softmax(torch.matmul(X.reshape([-1, num_inputs]), w) + b)\n",
    "\n",
    "def cross_entropy_loss(Y_hat, Y):\n",
    "    # Y.reshape(-1)只是确保结果为[y1,y2...]\n",
    "    return -Y_hat[range(len(Y)),Y.reshape(-1)] .log()\n",
    "\n",
    "#构造计算图训练plus-定义损失函数，训练函数，\n",
    "#可以写成这样吗?for X_batch, Y_batch in data.DataLoader():\n",
    "def SGD(w, b, lr):\n",
    "    with torch.no_grad():\n",
    "        w -= lr*W.grad\n",
    "        b -= lr*b.grad\n",
    "        w.grad.zero()\n",
    "        b.grad.zero()\n",
    "\n",
    "def train_fn(X, Y, w, b):\n",
    "    loss = cross_entropy_loss(net(X, w, b), Y)\n",
    "    loss.sum().backward()\n",
    "    SGD(w, b, 0.2)\n",
    "\n",
    "for i in range(epoch):\n",
    "    for X_batch, Y_batch in X_iter, Y_iter:\n",
    "        train_fn(X_batch, Y_batch, w, b)"
   ]
  }
 ],
 "metadata": {
  "kernelspec": {
   "display_name": "Python 3 (ipykernel)",
   "language": "python",
   "name": "python3"
  },
  "language_info": {
   "codemirror_mode": {
    "name": "ipython",
    "version": 3
   },
   "file_extension": ".py",
   "mimetype": "text/x-python",
   "name": "python",
   "nbconvert_exporter": "python",
   "pygments_lexer": "ipython3",
   "version": "3.11.7"
  }
 },
 "nbformat": 4,
 "nbformat_minor": 5
}
