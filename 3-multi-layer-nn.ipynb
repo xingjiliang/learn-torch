{
 "cells": [
  {
   "cell_type": "code",
   "execution_count": null,
   "id": "b7c875a7-a253-4bbf-a441-c00f995eb966",
   "metadata": {},
   "outputs": [],
   "source": [
    "import torch\n",
    "from torch import nn\n",
    "from torch.utils import data\n",
    "import d2l\n",
    "\n",
    "net = nn.Sequential(nn.Linear(4,5),nn.Sigmoid(),nn.Linear(5,5),nn.Tanh(),nn.Linear(5,5),nn.ReLU(),nn.Linear(5,10))\n",
    "loss = nn.CrossEntropyLoss()\n",
    "trainer = torch.optim.SGD(net.parameters(),lr=0.2)\n",
    "for X_iter, Y_iter in data.DataLoader(trainset, batch_size=256, shuffle=True, num_workers=4):\n",
    "    #要搞明白为什么有时用括号有时候不用\n",
    "    trainer.zero_grad()\n",
    "    loss(net(X_iter), Y).backward()\n",
    "    trainer.step()\n",
    "    \n"
   ]
  }
 ],
 "metadata": {
  "kernelspec": {
   "display_name": "Python 3 (ipykernel)",
   "language": "python",
   "name": "python3"
  },
  "language_info": {
   "codemirror_mode": {
    "name": "ipython",
    "version": 3
   },
   "file_extension": ".py",
   "mimetype": "text/x-python",
   "name": "python",
   "nbconvert_exporter": "python",
   "pygments_lexer": "ipython3",
   "version": "3.11.7"
  }
 },
 "nbformat": 4,
 "nbformat_minor": 5
}
