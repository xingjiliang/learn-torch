{
 "cells": [
  {
   "cell_type": "code",
   "execution_count": null,
   "id": "e66caef2-9a96-443e-b92f-f4bf03be9924",
   "metadata": {},
   "outputs": [],
   "source": [
    "import torch\n",
    "from torch import nn \n",
    "\n",
    "#定义模型\n",
    "net = nn.Sequential(nn.linear(2, 1))\n",
    "net[0].weight.data.normal_(0, 0.01)\n",
    "net[0].bias.data.fill_(0)\n",
    "\n",
    "#定义误差函数\n",
    "loss = nn.MSELoss()\n",
    "\n",
    "#定义优化器实例\n",
    "trainer = nn.SGD(net.parameters(), lr=0.03)\n",
    "\n",
    "#开始训练\n",
    "for X_batch, Y_batch in X, Y:\n",
    "    l = loss(net(X), Y)\n",
    "    trainer.zero_grad()\n",
    "    l.backward()\n",
    "    #调用优化器实例的step()函数来进行模型参数的更新 \n",
    "    trainer.step()\n",
    "\n"
   ]
  }
 ],
 "metadata": {
  "kernelspec": {
   "display_name": "Python 3 (ipykernel)",
   "language": "python",
   "name": "python3"
  },
  "language_info": {
   "codemirror_mode": {
    "name": "ipython",
    "version": 3
   },
   "file_extension": ".py",
   "mimetype": "text/x-python",
   "name": "python",
   "nbconvert_exporter": "python",
   "pygments_lexer": "ipython3",
   "version": "3.11.7"
  }
 },
 "nbformat": 4,
 "nbformat_minor": 5
}
