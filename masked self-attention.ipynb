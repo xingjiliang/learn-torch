{
 "cells": [
  {
   "cell_type": "code",
   "execution_count": null,
   "id": "ff9e4174-7c72-4ac7-a5be-9ab4cacd088d",
   "metadata": {},
   "outputs": [],
   "source": [
    "import torch  \n",
    "import torch.nn.functional as F  \n",
    "  \n",
    "def generate_square_subsequent_mask(sz):  \n",
    "    \"\"\"  \n",
    "    生成用于masked self-attention的mask矩阵。  \n",
    "    sz: 序列长度  \n",
    "    返回: 一个形状为 (sz, sz) 的tensor，其中上三角为True（或-inf），下三角为False（或0）。  \n",
    "    \"\"\"  \n",
    "    mask = (torch.triu(torch.ones(sz, sz)) == 1).transpose(0, 1)  \n",
    "    mask = mask.float().masked_fill(mask == 0, float('-inf')).masked_fill(mask == 1, float(0.0))  \n",
    "    return mask  \n",
    "  \n",
    "def masked_self_attention(query, key, value, mask):  \n",
    "    \"\"\"  \n",
    "    计算masked self-attention。  \n",
    "    query, key, value: 形状为 (batch_size, seq_len, depth) 的tensor。  \n",
    "    mask: 形状为 (seq_len, seq_len) 的tensor，用于在自注意力计算中屏蔽未来信息。  \n",
    "    返回: attention层的输出。  \n",
    "    \"\"\"  \n",
    "    d_k = query.size(-1)  \n",
    "    scores = torch.matmul(query, key.transpose(-2, -1)) / torch.sqrt(torch.tensor(d_k, dtype=torch.float32))  \n",
    "    scores.masked_fill_(mask == float('-inf'), float('-1e20'))  # 将mask中的-inf替换为一个非常小的数，以便softmax将其视为0  \n",
    "  \n",
    "    attention_weights = F.softmax(scores, dim=-1)  \n",
    "  \n",
    "    output = torch.matmul(attention_weights, value)  \n",
    "    return output  \n",
    "  \n",
    "# 示例用法  \n",
    "batch_size, seq_len, depth = 1, 10, 512  \n",
    "query = torch.randn(batch_size, seq_len, depth)  \n",
    "key = torch.randn(batch_size, seq_len, depth)  \n",
    "value = torch.randn(batch_size, seq_len, depth)  \n",
    "  \n",
    "mask = generate_square_subsequent_mask(seq_len)  \n",
    "  \n",
    "   \n",
    "print(output.shape)  # 输出应为 torch.Size([1, 10, 512])"
   ]
  }
 ],
 "metadata": {
  "kernelspec": {
   "display_name": "Python 3 (ipykernel)",
   "language": "python",
   "name": "python3"
  },
  "language_info": {
   "codemirror_mode": {
    "name": "ipython",
    "version": 3
   },
   "file_extension": ".py",
   "mimetype": "text/x-python",
   "name": "python",
   "nbconvert_exporter": "python",
   "pygments_lexer": "ipython3",
   "version": "3.11.7"
  }
 },
 "nbformat": 4,
 "nbformat_minor": 5
}
