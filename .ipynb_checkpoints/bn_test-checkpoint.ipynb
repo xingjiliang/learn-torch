{
 "cells": [
  {
   "cell_type": "code",
   "execution_count": null,
   "id": "3aea59dd-bc1e-46b1-902d-1af331f23651",
   "metadata": {},
   "outputs": [],
   "source": [
    "import torch\n",
    "from torch import nn"
   ]
  },
  {
   "cell_type": "code",
   "execution_count": null,
   "id": "2ebbea0e-488e-45ba-b7a5-67156d37e4d4",
   "metadata": {},
   "outputs": [],
   "source": [
    "class Bn2d(nn.Module):\n",
    "    # num表示channel的个数\n",
    "    def __init__(self, num):\n",
    "        super().__init__()\n",
    "        self.alpha = nn.Parameter(torch.ones(num))\n",
    "        self.beta = nn.Parameter(torch.zeros(num))\n",
    "        self.eps = 1e-5\n",
    "\n",
    "    # x.shape=[batch_size, channel_size, h, w]\n",
    "    def forward(self, x):\n",
    "        # 均值形状为 [channel_size]\n",
    "        x_mean = x.mean([0,2,3], keepdim=True)\n",
    "        x_var = x.var([0,2,3], keepdim=True)\n",
    "        #x_var = ((x - x_mean) ** 2).mean(dim=(0, 2, 3), keepdim=True)\n",
    "        return (x - x_mean) / torch.sqrt(x_var + self.eps) * self.alpha.reshape(1,-1,1,1) + self.beta.reshape(1,-1,1,1)"
   ]
  },
  {
   "cell_type": "code",
   "execution_count": null,
   "id": "49cd7c91-0c85-42cb-a2b0-2cb1f6ef6772",
   "metadata": {},
   "outputs": [],
   "source": [
    "def hisbn(x, eps=1e-5):\n",
    "    alpha = nn.Parameter(torch.ones(x.shape[1]))\n",
    "    beta = nn.Parameter(torch.zeros(x.shape[1]))\n",
    "    mean = torch.mean(x, [0,2,3], keepdim=True)\n",
    "    var = torch.var(x, [0,2,3], keepdim=True, unbiased=True)\n",
    "    output=(x-mean)/torch.sqrt(var+eps)\n",
    "    output=output*alpha.view(1,-1,1,1)+beta.view(1,-1,1,1)\n",
    "    return output"
   ]
  }
 ],
 "metadata": {
  "kernelspec": {
   "display_name": "Python 3 (ipykernel)",
   "language": "python",
   "name": "python3"
  },
  "language_info": {
   "codemirror_mode": {
    "name": "ipython",
    "version": 3
   },
   "file_extension": ".py",
   "mimetype": "text/x-python",
   "name": "python",
   "nbconvert_exporter": "python",
   "pygments_lexer": "ipython3",
   "version": "3.11.7"
  }
 },
 "nbformat": 4,
 "nbformat_minor": 5
}
