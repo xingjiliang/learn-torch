{
 "cells": [
  {
   "cell_type": "code",
   "execution_count": null,
   "id": "dc5c14cd-818f-4e76-8dcf-ffa04a68bbe5",
   "metadata": {},
   "outputs": [],
   "source": [
    "import torch\n",
    "from torch import nn"
   ]
  },
  {
   "cell_type": "code",
   "execution_count": null,
   "id": "0da16baf-6ab5-430e-9327-d9bc560207d4",
   "metadata": {},
   "outputs": [],
   "source": [
    "# 多头自注意力层\n",
    "# 输入x, shape=(batch_size, sequence_size, embedding_dim)\n",
    "# 输出y, shape=(batch_size, sequence_size, output_dim-一般与输入维度相同)\n",
    "\n",
    "class multiheadAttentionLayer(nn.Module):\n",
    "    def __init__(self, head_num, embedding_dim, att_dim, output_dim):\n",
    "        super().__init__()\n",
    "        self.head_num = head_num\n",
    "        self.att_dim = att_dim\n",
    "        self.WQ = nn.Linear(in_features=embedding_dim, out_features=att_dim*head_num, bias=True)\n",
    "        self.WK = nn.Linear(in_features=embedding_dim, out_features=att_dim*head_num, bias=True)\n",
    "        self.WV = nn.Linear(in_features=embedding_dim, out_features=att_dim*head_num, bias=True)\n",
    "        self.WZ = nn.Linear(head_dim*att_dim, output_dim, bias=True)\n",
    "        self.myLayerNorm = MyLayerNorm(embedding_dim)\n",
    "\n",
    "    def forward(self, X):\n",
    "        batch_size = X.shape[0]\n",
    "        seq_size = X.shape[1]\n",
    "        Q = self.WQ(x) #shape = (batch, seq, att_dim*head_num)\n",
    "        K = self.WK(x) \n",
    "        V = self.WV(x)\n",
    "        Q_slice=Q.reshape(batch_size, seq_size, self.head_num, self.att_dim)\n",
    "        K_slice=K.reshape(batch_size, seq_size, self.head_num, self.att_dim)\n",
    "        V_slice=V.reshape(batch_size, seq_size, self.head_num, self.att_dim)\n",
    "        #养成画图的习惯\n",
    "        Q_slice_permute = Q_slice.permute(0, 2, 1, 3)\n",
    "        K_slice_permute = K_slice.permute(0, 2, 3, 1)\n",
    "        V_slice_permute = V_slice.permute(0, 2, 1, 3)\n",
    "        att_score_matrix = Q_slice_permute.matmul(K_slice_permute) / torch.sqrt(self.att_dim) # att_score_matrix.shape=(batch,head,seq1*,seq2*)\n",
    "        att_weight_matrix = softmax(att_score_matrix, dim=-1)\n",
    "        # 需要注意是sum()第3维还是第4维\n",
    "        multihead_seqs = torch.sum(att_weight_matrix.reshape(batch_size, self.head_num, seq_size, seq_size, 1) * V_slice.reshape(batch_size, self.head_num, 1, seq_size, self.att_dim), 3)\n",
    "        Z = self.WZ(multihead_seqs.permute(0,2,1,3).reshape(batch_size, seq_size, -1))\n",
    "        self.myLayerNorm(Z + X)\n",
    "        #Z_slice.shape=(batch,seq,)...\n",
    "        "
   ]
  },
  {
   "cell_type": "code",
   "execution_count": null,
   "id": "7777653d-a7d2-4b78-80fe-a695d359f7b8",
   "metadata": {},
   "outputs": [],
   "source": [
    "class MyLayerNorm(nn.Module):\n",
    "    def __init__(self, dim, epsilon=0e-5):\n",
    "        super().__init__()\n",
    "        self.alpha = torch.ones(dim, requires_grad=True).reshape(1, 1, dim)\n",
    "        self.beta = torch.zeros(dim, requires_grad=True).reshape(1, 1, dim)\n",
    "        self.epsilon = epsilon\n",
    "\n",
    "    def forward(self, X):\n",
    "        X_mean = X.mean(-1, keepdim=True) #shape=(batch_size, seq, 1)\n",
    "        #虽然可以直接求标准差...\n",
    "        X_var = X.var(-1, keepdim=True)\n",
    "        return (X - X_mean) / torch.sqrt(X_var + self.epsilon) * self.alpha + self.beta"
   ]
  },
  {
   "cell_type": "code",
   "execution_count": null,
   "id": "9cad232c-fe71-40dd-ad1e-f88227543467",
   "metadata": {},
   "outputs": [],
   "source": [
    "def softmax(x, dim=-1):\n",
    "    x_exp = x.exp()\n",
    "    x_exp_sum= x_exp.sum(dim=dim, keepdim=True)\n",
    "    return x_exp / x_exp_sum\n",
    "    "
   ]
  },
  {
   "cell_type": "code",
   "execution_count": null,
   "id": "e23dfe21-b037-444b-8d6f-9d6fc9e8cd75",
   "metadata": {},
   "outputs": [],
   "source": [
    "A = softmax(torch.randn(2,8,4,4))\n",
    "V = torch.randn(2,8,4,5)\n",
    "result = A.reshape(2,8,4,4,1) * V.reshape(2,8,1,4,5)\n",
    "\n",
    "matrixA = A[0][0]\n",
    "seq = V[0][0]"
   ]
  }
 ],
 "metadata": {
  "kernelspec": {
   "display_name": "Python 3 (ipykernel)",
   "language": "python",
   "name": "python3"
  },
  "language_info": {
   "codemirror_mode": {
    "name": "ipython",
    "version": 3
   },
   "file_extension": ".py",
   "mimetype": "text/x-python",
   "name": "python",
   "nbconvert_exporter": "python",
   "pygments_lexer": "ipython3",
   "version": "3.11.7"
  }
 },
 "nbformat": 4,
 "nbformat_minor": 5
}
