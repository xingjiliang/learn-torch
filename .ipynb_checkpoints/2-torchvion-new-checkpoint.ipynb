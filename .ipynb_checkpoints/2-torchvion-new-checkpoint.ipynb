{
 "cells": [
  {
   "cell_type": "code",
   "execution_count": null,
   "id": "84738122-4f30-4516-ac52-d6bf57dda806",
   "metadata": {},
   "outputs": [],
   "source": [
    "%matplotlib inline\n",
    "import torch\n",
    "import torchvision\n",
    "from torch.utils import data\n",
    "from torchvision import transforms\n",
    "from d2l import torch as d2l\n",
    "\n",
    "d2l.use_svg_display()\n",
    "\n",
    "def load_data_fashion_mnist(batch_size, resize=None):  #@save\n",
    "    \"\"\"下载Fashion-MNIST数据集，然后将其加载到内存中\"\"\"\n",
    "    trans = [transforms.ToTensor()]\n",
    "    if resize:\n",
    "        trans.insert(0, transforms.Resize(resize))\n",
    "    trans = transforms.Compose(trans)\n",
    "    mnist_train = torchvision.datasets.FashionMNIST(\n",
    "        root=\"../data\", train=True, transform=trans, download=True)\n",
    "    mnist_test = torchvision.datasets.FashionMNIST(\n",
    "        root=\"../data\", train=False, transform=trans, download=True)\n",
    "    return (data.DataLoader(mnist_train, batch_size, shuffle=True,\n",
    "                            num_workers=get_dataloader_workers()),\n",
    "            data.DataLoader(mnist_test, batch_size, shuffle=False,\n",
    "                            num_workers=get_dataloader_workers()))"
   ]
  },
  {
   "cell_type": "code",
   "execution_count": null,
   "id": "c71d0af7-8dfa-4a50-aa0d-b94cfaeab9ae",
   "metadata": {},
   "outputs": [],
   "source": [
    "batch_size = 256\n",
    "num_inputs = 784\n",
    "num_outputs = 10\n",
    "X_iter, Y_iter = load_data_fashion_mnist(batch_size)\n",
    "#图片展平为向量\n",
    "X_iter.reshape(batch_size, num_inputs)\n",
    "#参数W,b\n",
    "w = tensor.normal(0, 0.1, size=(num_inputs, num_outputs), requires_grad=True)\n",
    "b = tensor.zeros(num_outputs, requires_grad=True).reshape(1, num_outputs)\n",
    "#定义softmax函数,输入o.shape=[batch_size,num_outputs]\n",
    "def softmax(O):\n",
    "    exp_x = torch.exp(O)\n",
    "    return exp_x/exp_x.sum(1, keep_dim=True)\n",
    "\n",
    "y_hat = softmax(torch.matmul(X_iter, w) + b)\n",
    "\n",
    "# sum(-log (y^hat)) / n\n",
    "# y_hat.shape = [batch_size, num_output]. \n",
    "# y.shape=[batch_size], dim-1 means label index. eg:[[2],[5],[9]...]\n",
    "# 有个牛逼的写法是 y=[0,2], y看做迭代器，然后y_hat=[[0.1,0.2,0.3],[0.4,0.5,0.6]],y中每一个元素对应y_hat的每一行，以该元素为索引拿出对应行中的那个浮点数？\n",
    "# temp = [range(len(y), y]\n",
    "# return.shape=[batch_size]\n",
    "\n",
    "def cross_entropy_loss_fn(y, y_hat):\n",
    "    return -torch.log(y_hat[range(len(y)), y])\n",
    "    \n",
    "\n",
    "def accuracy(y_hat,y)\n",
    "    "
   ]
  }
 ],
 "metadata": {
  "kernelspec": {
   "display_name": "Python 3 (ipykernel)",
   "language": "python",
   "name": "python3"
  },
  "language_info": {
   "codemirror_mode": {
    "name": "ipython",
    "version": 3
   },
   "file_extension": ".py",
   "mimetype": "text/x-python",
   "name": "python",
   "nbconvert_exporter": "python",
   "pygments_lexer": "ipython3",
   "version": "3.11.7"
  }
 },
 "nbformat": 4,
 "nbformat_minor": 5
}
