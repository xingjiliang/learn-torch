{
 "cells": [
  {
   "cell_type": "code",
   "execution_count": null,
   "id": "fd5fe3fc-ca49-4a71-9a46-e8966b8a96be",
   "metadata": {},
   "outputs": [],
   "source": [
    "import torch\n",
    "import d2l\n",
    "from torch import data\n",
    "from torch import nn"
   ]
  },
  {
   "cell_type": "code",
   "execution_count": null,
   "id": "2d1d6caa-51b9-4053-8ac0-67805e758d34",
   "metadata": {},
   "outputs": [],
   "source": [
    "batch_size = 256\n",
    "num_inputs = 784\n",
    "num_outputs = 10\n",
    "epoch = 10\n",
    "lr = 0.2"
   ]
  },
  {
   "cell_type": "code",
   "execution_count": null,
   "id": "296db39e-28a6-4dcb-9fbe-465f9596cca4",
   "metadata": {},
   "outputs": [],
   "source": [
    "X_iter, Y_iter = data.DataLoader(...)\n",
    "\n",
    "#X_iter.shape = [batch_size, 1, h, w] need to be flattened to [batchsize, num_inputs]\n",
    "#如果Flatten是直接展成1维数组,我为什么不直接用reshape?\n",
    "net = nn.Sequential(nn.Flatten(), nn.Linear(num_inputs, num_outputs), nn.Softmax())\n",
    "#少了一步初始化参数,net是可迭代对象\n",
    "#Module是一个类，其中的对象\n",
    "for layer in net:\n",
    "    if isinstance(layer,(nn.Linear)) or type(layer) == nn.Linear:\n",
    "        nn.init.normal(layer, std=0.1)\n",
    "\n",
    "loss = nn.CrossEntropyLoss()\n",
    "\n",
    "sgd = torch.optim.SGD(params=net.parameters(), lr=lr)\n",
    "for x,y in X_iter, Y_iter:\n",
    "    sgd.zero_grad()\n",
    "    loss(net(x), y)\n",
    "    loss.mean().backward()\n",
    "    sgd.step()\n",
    "    \n"
   ]
  }
 ],
 "metadata": {
  "kernelspec": {
   "display_name": "Python 3 (ipykernel)",
   "language": "python",
   "name": "python3"
  },
  "language_info": {
   "codemirror_mode": {
    "name": "ipython",
    "version": 3
   },
   "file_extension": ".py",
   "mimetype": "text/x-python",
   "name": "python",
   "nbconvert_exporter": "python",
   "pygments_lexer": "ipython3",
   "version": "3.11.7"
  }
 },
 "nbformat": 4,
 "nbformat_minor": 5
}
