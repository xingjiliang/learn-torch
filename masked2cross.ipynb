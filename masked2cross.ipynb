{
 "cells": [
  {
   "cell_type": "code",
   "execution_count": null,
   "id": "a078b10d-2bc6-4b68-a955-0d64c1185d08",
   "metadata": {},
   "outputs": [],
   "source": [
    "import torch  \n",
    "import torch.nn as nn  \n",
    "import torch.nn.functional as F  \n",
    "  \n",
    "class SelfAttention(nn.Module):  \n",
    "    # 这里只是示意性的Self-Attention，实际中会使用多头注意力等  \n",
    "    def __init__(self, embed_size, heads):  \n",
    "        super(SelfAttention, self).__init__()  \n",
    "        # 假设这里有一个简单的自注意力实现，但实际上会使用更复杂的结构  \n",
    "        self.linear_qkv = nn.Linear(embed_size, embed_size * 3)  # 简化为一个线性层来模拟QKV的生成  \n",
    "  \n",
    "    def forward(self, x, mask=None):  \n",
    "        # 假设mask已经处理好，用于Masked Self-Attention  \n",
    "        batch_size, seq_len, embed_size = x.size()  \n",
    "        qkv = self.linear_qkv(x).reshape(batch_size, seq_len, 3, embed_size).permute(2, 0, 1, 3)  \n",
    "        q, k, v = qkv[0], qkv[1], qkv[2]  # 分割QKV  \n",
    "  \n",
    "        # 这里省略了注意力分数的计算和softmax等步骤，只关注于如何生成Q  \n",
    "  \n",
    "        # 假设这是Masked Self-Attention的输出Z（实际中需要计算得到）  \n",
    "        Z = x + torch.randn_like(x)  # 示例：用随机噪声模拟输出Z，实际中应该是通过注意力机制计算得到  \n",
    "  \n",
    "        # 转换为交叉注意力所需的Q  \n",
    "        self_attn_output_dim = embed_size  # 假设自注意力输出维度与嵌入维度相同  \n",
    "        q_proj = nn.Linear(self_attn_output_dim, embed_size)  # 线性层将Z转换为Q  \n",
    "        Q = q_proj(Z)  \n",
    "  \n",
    "        # 注意：在实际中，K和V通常来自编码器的输出，而不是解码器的输出  \n",
    "        # 这里只是展示了如何将Z转换为Q，没有涉及K和V的获取  \n",
    "  \n",
    "        return Q  # 返回Q作为交叉注意力的输入  \n",
    "  \n",
    "# 假设这是Masked Self-Attention层的输出Z（在实际中，你需要从SelfAttention的实例中调用forward得到它）  \n",
    "embed_size = 512  \n",
    "seq_len = 64  \n",
    "batch_size = 32  \n",
    "Z = torch.randn(batch_size, seq_len, embed_size)  # 模拟Masked Self-Attention的输出  \n",
    "  \n",
    "# 创建SelfAttention实例（注意：这里只是示意，实际中不会这样用）  \n",
    "self_attn = SelfAttention(embed_size, heads=8)  # 假设有8个头  \n",
    "  \n",
    "# 假设我们已经有了一个x（解码器的输入），但在这个例子中我们直接用Z来模拟  \n",
    "# x = torch.randn(batch_size, seq_len, embed_size)  # 解码器的输入  \n",
    "  \n",
    "# 调用SelfAttention的forward方法来模拟获取Z（但实际上我们应该直接传入x）  \n",
    "# 注意：这里的实现是不完整的，只是为了展示如何将Z转换为Q  \n",
    "Q = self_attn(Z)  # 在实际中，这行代码会报错，因为self_attn的实现不完整且没有处理mask  \n",
    "  \n",
    "# 但由于我们关注的是Z到Q的转换，我们可以直接从Z到Q的转换过程  \n",
    "q_proj = nn.Linear(embed_size, embed_size)  # 创建一个线性层来模拟Q的生成  \n",
    "Q = q_proj(Z)  # 这就是将Z转换为Q的过程  \n",
    "  \n",
    "print(Q.shape)  # 输出Q的形状，检查是否与预期一致"
   ]
  }
 ],
 "metadata": {
  "kernelspec": {
   "display_name": "Python 3 (ipykernel)",
   "language": "python",
   "name": "python3"
  },
  "language_info": {
   "codemirror_mode": {
    "name": "ipython",
    "version": 3
   },
   "file_extension": ".py",
   "mimetype": "text/x-python",
   "name": "python",
   "nbconvert_exporter": "python",
   "pygments_lexer": "ipython3",
   "version": "3.11.7"
  }
 },
 "nbformat": 4,
 "nbformat_minor": 5
}
