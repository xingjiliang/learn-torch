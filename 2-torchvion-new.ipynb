{
 "cells": [
  {
   "cell_type": "code",
   "execution_count": null,
   "id": "18ee635d-d888-47c2-a1be-41162116e67b",
   "metadata": {},
   "outputs": [],
   "source": [
    "import pytorch as torch\n",
    "import d2l\n",
    "from d2l import torch"
   ]
  },
  {
   "cell_type": "code",
   "execution_count": 8,
   "id": "c71d0af7-8dfa-4a50-aa0d-b94cfaeab9ae",
   "metadata": {},
   "outputs": [
    {
     "ename": "NameError",
     "evalue": "name 'load_data_fashion_mnist' is not defined",
     "output_type": "error",
     "traceback": [
      "\u001b[1;31m---------------------------------------------------------------------------\u001b[0m",
      "\u001b[1;31mNameError\u001b[0m                                 Traceback (most recent call last)",
      "Cell \u001b[1;32mIn[8], line 4\u001b[0m\n\u001b[0;32m      2\u001b[0m num_inputs \u001b[38;5;241m=\u001b[39m \u001b[38;5;241m784\u001b[39m\n\u001b[0;32m      3\u001b[0m num_outputs \u001b[38;5;241m=\u001b[39m \u001b[38;5;241m10\u001b[39m\n\u001b[1;32m----> 4\u001b[0m X_iter, Y_iter \u001b[38;5;241m=\u001b[39m load_data_fashion_mnist(batch_size)\n\u001b[0;32m      5\u001b[0m \u001b[38;5;66;03m#图片展平为向量\u001b[39;00m\n\u001b[0;32m      6\u001b[0m X_iter\u001b[38;5;241m.\u001b[39mreshape(batch_size, num_inputs)\n",
      "\u001b[1;31mNameError\u001b[0m: name 'load_data_fashion_mnist' is not defined"
     ]
    }
   ],
   "source": [
    "#指定各种超参数\n",
    "batch_size = 256\n",
    "num_inputs = 784\n",
    "num_outputs = 10\n",
    "X_iter, Y_iter = d2l.load_data_fashion_mnist(batch_size)\n",
    "#图片展平为向量\n",
    "X_iter.reshape(batch_size, num_inputs)\n",
    "#参数W,b\n",
    "w = tensor.normal(0, 0.1, size=(num_inputs, num_outputs), requires_grad=True)\n",
    "b = tensor.zeros(num_outputs, requires_grad=True).reshape(1, num_outputs)\n",
    "#定义softmax函数,输入o.shape=[batch_size,num_outputs]\n",
    "def softmax(O):\n",
    "    exp_x = torch.exp(O)\n",
    "    return exp_x/exp_x.sum(1, keep_dim=True)\n",
    "\n",
    "y_hat = softmax(torch.matmul(X_iter, w) + b)\n",
    "\n",
    "# sum(-log (y^hat)) / n\n",
    "# y_hat.shape = [batch_size, num_output]. \n",
    "# y.shape=[batch_size], dim-1 means label index. eg:[[2],[5],[9]...]\n",
    "# 有个牛逼的写法是 y=[0,2], y看做迭代器，然后y_hat=[[0.1,0.2,0.3],[0.4,0.5,0.6]],y中每一个元素对应y_hat的每一行，以该元素为索引拿出对应行中的那个浮点数？\n",
    "# temp = [range(len(y), y]\n",
    "# return.shape=[batch_size]\n",
    "\n",
    "def cross_entropy_loss_fn(y, y_hat):\n",
    "    return -torch.log(y_hat[range(len(y)), y])\n",
    "    \n"
   ]
  },
  {
   "cell_type": "code",
   "execution_count": null,
   "id": "c31b0bb5-649a-45bf-bb15-28ccb0755337",
   "metadata": {},
   "outputs": [],
   "source": [
    "def accuracy(y_hat,y):\n",
    "    y_pred = y_hat.argmax(axis=1)\n",
    "    comp = y_pred.type(y.dtype) == y\n",
    "    return comp.type(y.dtype).sum()/len(y)"
   ]
  }
 ],
 "metadata": {
  "kernelspec": {
   "display_name": "Python 3 (ipykernel)",
   "language": "python",
   "name": "python3"
  },
  "language_info": {
   "codemirror_mode": {
    "name": "ipython",
    "version": 3
   },
   "file_extension": ".py",
   "mimetype": "text/x-python",
   "name": "python",
   "nbconvert_exporter": "python",
   "pygments_lexer": "ipython3",
   "version": "3.11.7"
  }
 },
 "nbformat": 4,
 "nbformat_minor": 5
}
